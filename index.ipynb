{
 "cells": [
  {
   "cell_type": "markdown",
   "metadata": {},
   "source": [
    "# NetworkX Introduction - Lab\n",
    "\n",
    "## Introduction\n",
    "\n",
    "In this lab, you'll practice some of the introductory skills for NetworkX introduced in the previous lesson.\n",
    "To do this, you'll create a graph to visualize users and businesses from yelp reviews.\n",
    "## Objectives\n",
    "\n",
    "You will be able to:\n",
    "* Create basic network graphs using NetworkX\n",
    "* Add nodes to network graphs with NetworkX\n",
    "* Add edges to network graphs with NetworkX\n",
    "* Visualize network graphs with NetworkX"
   ]
  },
  {
   "cell_type": "markdown",
   "metadata": {},
   "source": [
    "## Import the Data\n",
    "\n",
    "To start, import the data stored in the file 'Yelp_reviews.csv'"
   ]
  },
  {
   "cell_type": "code",
   "execution_count": 5,
   "metadata": {},
   "outputs": [
    {
     "data": {
      "text/plain": [
       "76"
      ]
     },
     "execution_count": 5,
     "metadata": {},
     "output_type": "execute_result"
    }
   ],
   "source": [
    "#Your code here\n",
    "import numpy as np\n",
    "import pandas as pd\n",
    "import networkx as nx\n",
    "df = pd.read_csv('Yelp_reviews.csv')\n",
    "len(df)"
   ]
  },
  {
   "cell_type": "code",
   "execution_count": 13,
   "metadata": {},
   "outputs": [
    {
     "name": "stdout",
     "output_type": "stream",
     "text": [
      "7SO_rX1F6rQEl-5s3wZxgQ\n",
      "2011-10-03\n",
      "GxaYFCprt-wyqO--vB4PHQ\n",
      "4\n",
      "After my last review, somewhat scathing regarding the burgers, I got an invite from the management to come down, meet the chef and give him another try.  I thought to myself, \"how nice\", they read my review and they are concerned about the quality of their product.  I think that is admirable.  I did not take them up on the offer, because I don't feel that would be appropriate - I'm interested in doing yelp reviews because I have benefitted from reading the reviews of others, and I want to share my thoughts and feelings too :-) - I'm not looking for freebies.\n",
      "\n",
      "So, anyway, last friday seemed like a good day to walk over to LGO and see what's shakin.  I grabbed my growler jug (still the best deal around) and the wife, called a friend to join us for a beer and walked on down to the corner.  The evening was a bit on the warm side, but it was quiet and about the normal buzz of busyness for this corner.  It's always kinda crazy and we like to sit on the patio to watch the manic drivers race around trying to find parking.  We went into the store and the wife ordered a grilled-fish sandwich.  I nervously ordered a cheeseburger with fries.  After placing our orders and getting warned that we needed to be around to pick them up, I moseyed over to the bar to get my jug filled with Stella.  Did I mention that this is an awesome deal?  So, we got some glasses and headed out to the patio.  Soon afterward, they called our name and we got our grub.  My wife's fish sandwich was consumed with muffled oooh's and ahhhhs', and she raved about the perfect texture, grilled flavor and delicious, fresh multi-grain bread.  She also raved about the slaw that came with it.  I think she liked this sandwich.  The burger, on the other hand, is still a disappointment.  I ordered it Medium Rare (the only way to order a burger) and kudos to the woman for not warning me about undercooked meats - I'm aware.  really. And I asked for cheese and put it on a hamburger bun.  It came open-faced with a pile of coarsly shredded mild cheddar cheese.  It had the appropriate veggies - lettuce, pickle and tomato, red onion slices and the special sauce.  With a pile of limp matchstick fries on the side, it was a big pile-o-food.  The portion was impressive.  That's about where it ended for me.  The burger was overcooked and the pile of shredded cheese is a bit off-putting.  It's impressive, I'll give 'em that, but a big pile of cold, shredded cheese just doesn't work for me.  The cheese needs to be melted.  A good burger has the cheese melted.  at least some.  Lot's of cheese can be fun, but it overpowers the rest of the flavors and tends to cool the burger quickly.  I scraped off about two-thirds of the cheese - enough to make a cheese crisp if I had a tortilla, and put the burger together.  Flavor was so-so.  After I added some salt and pepper, flavor was just a little better than so-so.  Burger was cooked to med-well, but still juicy.  The veggies were fresh and crispy.  A side of mayo for dipping the fries in is required for me.  I like my fries Belgian style.  The bun was a little dry and on the edge of stale, but not bad enough that I could not eat it still.  Overall, I stand by my original review of the burgers here.  I realize LGO is trying to stand out with a \"different\" presentation, and I applaud the effort, but I think it needs a bit more work to stand out at a time when everybody is doing burgers.  The fries were sub-par, limp and forgettable.  The ambiance, however, is what brings us back.  Sitting on the corner patio, sipping a beer, having a great conversation and watching the show all around me is a great way to wind down on a warm Friday night.  LGO - keep working on the burger, I'll keep coming in, but I think I'll stick with the wings for now.\n",
      "review\n",
      "J3I2NClEbD1Xr8lOdjxlqQ\n",
      "1\n",
      "2\n",
      "1\n"
     ]
    }
   ],
   "source": [
    "adj_list = {}\n",
    "for row in df.items():\n",
    "    print(row[0][1])"
   ]
  },
  {
   "cell_type": "markdown",
   "metadata": {},
   "source": [
    "## Creating a Graph\n",
    "\n",
    "Now, create an initial graph!"
   ]
  },
  {
   "cell_type": "code",
   "execution_count": null,
   "metadata": {},
   "outputs": [],
   "source": [
    "#Your code here"
   ]
  },
  {
   "cell_type": "markdown",
   "metadata": {},
   "source": [
    "## Adding Nodes"
   ]
  },
  {
   "cell_type": "markdown",
   "metadata": {},
   "source": [
    "Create a node for each user and each business in the dataset. Networks with multiple node types like this are called **bimodal networks**.\n",
    "\n",
    "Optionally, go further by creating a list of colors for when you visualize the graph. If you do this, append the color \"green\" to your color list every time you add a user node and append the color \"blue\" to your color list every time you add a business node."
   ]
  },
  {
   "cell_type": "code",
   "execution_count": null,
   "metadata": {},
   "outputs": [],
   "source": [
    "#Your code here"
   ]
  },
  {
   "cell_type": "markdown",
   "metadata": {},
   "source": [
    "## Adding Edges\n",
    "\n",
    "Next, iterate through the dataset and create an edge between users and the businesses they have reviewed."
   ]
  },
  {
   "cell_type": "code",
   "execution_count": null,
   "metadata": {},
   "outputs": [],
   "source": [
    "#Your code here"
   ]
  },
  {
   "cell_type": "markdown",
   "metadata": {},
   "source": [
    "## Visualizing the Graph\n",
    "\n",
    "Finally, create a visualization of your network. If you chose to color your nodes, pass the list of colors through the optional `node_color` parameter."
   ]
  },
  {
   "cell_type": "code",
   "execution_count": null,
   "metadata": {},
   "outputs": [],
   "source": [
    "#Your code here"
   ]
  },
  {
   "cell_type": "markdown",
   "metadata": {},
   "source": [
    "## Summary\n",
    "\n",
    "Nice work! In this lab you created an initial network to visualize a bimodal network of businesses and yelp reviewers!"
   ]
  }
 ],
 "metadata": {
  "kernelspec": {
   "display_name": "Python 3",
   "language": "python",
   "name": "python3"
  },
  "language_info": {
   "codemirror_mode": {
    "name": "ipython",
    "version": 3
   },
   "file_extension": ".py",
   "mimetype": "text/x-python",
   "name": "python",
   "nbconvert_exporter": "python",
   "pygments_lexer": "ipython3",
   "version": "3.6.6"
  }
 },
 "nbformat": 4,
 "nbformat_minor": 2
}
