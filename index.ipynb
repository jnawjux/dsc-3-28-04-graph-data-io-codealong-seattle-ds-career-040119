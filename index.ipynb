{
 "cells": [
  {
   "cell_type": "markdown",
   "metadata": {},
   "source": [
    "# NetworkX Introduction - Lab\n",
    "\n",
    "## Introduction\n",
    "\n",
    "In this lab, you'll practice some of the introductory skills for NetworkX introduced in the previous lesson.\n",
    "To do this, you'll create a graph to visualize users and businesses from yelp reviews.\n",
    "## Objectives\n",
    "\n",
    "You will be able to:\n",
    "* Create basic network graphs using NetworkX\n",
    "* Add nodes to network graphs with NetworkX\n",
    "* Add edges to network graphs with NetworkX\n",
    "* Visualize network graphs with NetworkX"
   ]
  },
  {
   "cell_type": "markdown",
   "metadata": {},
   "source": [
    "## Import the Data\n",
    "\n",
    "To start, import the data stored in the file 'Yelp_reviews.csv'"
   ]
  },
  {
   "cell_type": "code",
   "execution_count": 5,
   "metadata": {},
   "outputs": [
    {
     "data": {
      "text/plain": [
       "76"
      ]
     },
     "execution_count": 5,
     "metadata": {},
     "output_type": "execute_result"
    }
   ],
   "source": [
    "#Your code here\n",
    "import numpy as np\n",
    "import pandas as pd\n",
    "import networkx as nx\n",
    "df = pd.read_csv('Yelp_reviews.csv')\n",
    "len(df)"
   ]
  },
  {
   "cell_type": "code",
   "execution_count": 19,
   "metadata": {},
   "outputs": [
    {
     "name": "stdout",
     "output_type": "stream",
     "text": [
      "7SO_rX1F6rQEl-5s3wZxgQ\n",
      "K2_Hmmo5crTYWiT_1sWnfQ\n",
      "FeI75xIG8PF_XZ6P80gLBQ\n",
      "6imLt53br7SJ3av07jjH7w\n",
      "zmFc8M-hS4uuyY0hklIpoQ\n",
      "PoRYjYUSjmeWM1WLsx_45w\n",
      "jJhNOhuGpIsJX5SEUFFWYQ\n",
      "jJhNOhuGpIsJX5SEUFFWYQ\n",
      "jJhNOhuGpIsJX5SEUFFWYQ\n",
      "PoRYjYUSjmeWM1WLsx_45w\n",
      "K2_Hmmo5crTYWiT_1sWnfQ\n",
      "6imLt53br7SJ3av07jjH7w\n",
      "4r9-iKOagzn5oUvPE9Bz4Q\n",
      "PoRYjYUSjmeWM1WLsx_45w\n",
      "7SO_rX1F6rQEl-5s3wZxgQ\n",
      "vSEFzop2GDXsIWTLxIGMiw\n",
      "PoRYjYUSjmeWM1WLsx_45w\n",
      "7SO_rX1F6rQEl-5s3wZxgQ\n",
      "7SO_rX1F6rQEl-5s3wZxgQ\n",
      "jJhNOhuGpIsJX5SEUFFWYQ\n",
      "L2J3JfjXZLnX1rLhWKthqA\n",
      "L2J3JfjXZLnX1rLhWKthqA\n",
      "zmFc8M-hS4uuyY0hklIpoQ\n",
      "PoRYjYUSjmeWM1WLsx_45w\n",
      "FeI75xIG8PF_XZ6P80gLBQ\n",
      "7SO_rX1F6rQEl-5s3wZxgQ\n",
      "K2_Hmmo5crTYWiT_1sWnfQ\n",
      "7SO_rX1F6rQEl-5s3wZxgQ\n",
      "6imLt53br7SJ3av07jjH7w\n",
      "Dsvx2LEC8jk9nuGsg1Kqhg\n",
      "vSEFzop2GDXsIWTLxIGMiw\n",
      "FeI75xIG8PF_XZ6P80gLBQ\n",
      "4r9-iKOagzn5oUvPE9Bz4Q\n",
      "6imLt53br7SJ3av07jjH7w\n",
      "PoRYjYUSjmeWM1WLsx_45w\n",
      "FeI75xIG8PF_XZ6P80gLBQ\n",
      "6imLt53br7SJ3av07jjH7w\n",
      "zmFc8M-hS4uuyY0hklIpoQ\n",
      "7SO_rX1F6rQEl-5s3wZxgQ\n",
      "jJhNOhuGpIsJX5SEUFFWYQ\n",
      "7SO_rX1F6rQEl-5s3wZxgQ\n",
      "PoRYjYUSjmeWM1WLsx_45w\n",
      "jJhNOhuGpIsJX5SEUFFWYQ\n",
      "jJhNOhuGpIsJX5SEUFFWYQ\n",
      "jJhNOhuGpIsJX5SEUFFWYQ\n",
      "vSEFzop2GDXsIWTLxIGMiw\n",
      "jJhNOhuGpIsJX5SEUFFWYQ\n",
      "7SO_rX1F6rQEl-5s3wZxgQ\n",
      "7SO_rX1F6rQEl-5s3wZxgQ\n",
      "6imLt53br7SJ3av07jjH7w\n",
      "7SO_rX1F6rQEl-5s3wZxgQ\n",
      "L2J3JfjXZLnX1rLhWKthqA\n",
      "6imLt53br7SJ3av07jjH7w\n",
      "6imLt53br7SJ3av07jjH7w\n",
      "zmFc8M-hS4uuyY0hklIpoQ\n",
      "L2J3JfjXZLnX1rLhWKthqA\n",
      "zmFc8M-hS4uuyY0hklIpoQ\n",
      "L2J3JfjXZLnX1rLhWKthqA\n",
      "K2_Hmmo5crTYWiT_1sWnfQ\n",
      "PoRYjYUSjmeWM1WLsx_45w\n",
      "7SO_rX1F6rQEl-5s3wZxgQ\n",
      "zmFc8M-hS4uuyY0hklIpoQ\n",
      "PdRzCJWP7nPdYoHPdd5SOQ\n",
      "FeI75xIG8PF_XZ6P80gLBQ\n",
      "L2J3JfjXZLnX1rLhWKthqA\n",
      "jJhNOhuGpIsJX5SEUFFWYQ\n",
      "7SO_rX1F6rQEl-5s3wZxgQ\n",
      "jJhNOhuGpIsJX5SEUFFWYQ\n",
      "7SO_rX1F6rQEl-5s3wZxgQ\n",
      "zmFc8M-hS4uuyY0hklIpoQ\n",
      "zmFc8M-hS4uuyY0hklIpoQ\n",
      "Dsvx2LEC8jk9nuGsg1Kqhg\n",
      "Dsvx2LEC8jk9nuGsg1Kqhg\n",
      "zmFc8M-hS4uuyY0hklIpoQ\n",
      "jJhNOhuGpIsJX5SEUFFWYQ\n",
      "vSEFzop2GDXsIWTLxIGMiw\n"
     ]
    }
   ],
   "source": [
    "adj_list = {''}\n",
    "for i in df['business_id']:\n",
    "    print(i)"
   ]
  },
  {
   "cell_type": "markdown",
   "metadata": {},
   "source": [
    "## Creating a Graph\n",
    "\n",
    "Now, create an initial graph!"
   ]
  },
  {
   "cell_type": "code",
   "execution_count": null,
   "metadata": {},
   "outputs": [],
   "source": [
    "#Your code here"
   ]
  },
  {
   "cell_type": "markdown",
   "metadata": {},
   "source": [
    "## Adding Nodes"
   ]
  },
  {
   "cell_type": "markdown",
   "metadata": {},
   "source": [
    "Create a node for each user and each business in the dataset. Networks with multiple node types like this are called **bimodal networks**.\n",
    "\n",
    "Optionally, go further by creating a list of colors for when you visualize the graph. If you do this, append the color \"green\" to your color list every time you add a user node and append the color \"blue\" to your color list every time you add a business node."
   ]
  },
  {
   "cell_type": "code",
   "execution_count": null,
   "metadata": {},
   "outputs": [],
   "source": [
    "#Your code here"
   ]
  },
  {
   "cell_type": "markdown",
   "metadata": {},
   "source": [
    "## Adding Edges\n",
    "\n",
    "Next, iterate through the dataset and create an edge between users and the businesses they have reviewed."
   ]
  },
  {
   "cell_type": "code",
   "execution_count": null,
   "metadata": {},
   "outputs": [],
   "source": [
    "#Your code here"
   ]
  },
  {
   "cell_type": "markdown",
   "metadata": {},
   "source": [
    "## Visualizing the Graph\n",
    "\n",
    "Finally, create a visualization of your network. If you chose to color your nodes, pass the list of colors through the optional `node_color` parameter."
   ]
  },
  {
   "cell_type": "code",
   "execution_count": null,
   "metadata": {},
   "outputs": [],
   "source": [
    "#Your code here"
   ]
  },
  {
   "cell_type": "markdown",
   "metadata": {},
   "source": [
    "## Summary\n",
    "\n",
    "Nice work! In this lab you created an initial network to visualize a bimodal network of businesses and yelp reviewers!"
   ]
  }
 ],
 "metadata": {
  "kernelspec": {
   "display_name": "Python 3",
   "language": "python",
   "name": "python3"
  },
  "language_info": {
   "codemirror_mode": {
    "name": "ipython",
    "version": 3
   },
   "file_extension": ".py",
   "mimetype": "text/x-python",
   "name": "python",
   "nbconvert_exporter": "python",
   "pygments_lexer": "ipython3",
   "version": "3.6.6"
  }
 },
 "nbformat": 4,
 "nbformat_minor": 2
}
