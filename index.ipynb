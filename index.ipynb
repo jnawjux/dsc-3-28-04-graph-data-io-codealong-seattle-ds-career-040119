{
 "cells": [
  {
   "cell_type": "markdown",
   "metadata": {},
   "source": [
    "# NetworkX Introduction - Lab\n",
    "\n",
    "## Introduction\n",
    "\n",
    "In this lab, you'll practice some of the introductory skills for NetworkX introduced in the previous lesson.\n",
    "To do this, you'll create a graph to visualize users and businesses from yelp reviews.\n",
    "## Objectives\n",
    "\n",
    "You will be able to:\n",
    "* Create basic network graphs using NetworkX\n",
    "* Add nodes to network graphs with NetworkX\n",
    "* Add edges to network graphs with NetworkX\n",
    "* Visualize network graphs with NetworkX"
   ]
  },
  {
   "cell_type": "markdown",
   "metadata": {},
   "source": [
    "## Import the Data\n",
    "\n",
    "To start, import the data stored in the file 'Yelp_reviews.csv'"
   ]
  },
  {
   "cell_type": "code",
   "execution_count": 5,
   "metadata": {},
   "outputs": [
    {
     "data": {
      "text/plain": [
       "76"
      ]
     },
     "execution_count": 5,
     "metadata": {},
     "output_type": "execute_result"
    }
   ],
   "source": [
    "#Your code here\n",
    "import numpy as np\n",
    "import pandas as pd\n",
    "import networkx as nx\n",
    "df = pd.read_csv('Yelp_reviews.csv')\n",
    "len(df)"
   ]
  },
  {
   "cell_type": "code",
   "execution_count": 18,
   "metadata": {},
   "outputs": [
    {
     "data": {
      "text/plain": [
       "0     7SO_rX1F6rQEl-5s3wZxgQ\n",
       "1     K2_Hmmo5crTYWiT_1sWnfQ\n",
       "2     FeI75xIG8PF_XZ6P80gLBQ\n",
       "3     6imLt53br7SJ3av07jjH7w\n",
       "4     zmFc8M-hS4uuyY0hklIpoQ\n",
       "5     PoRYjYUSjmeWM1WLsx_45w\n",
       "6     jJhNOhuGpIsJX5SEUFFWYQ\n",
       "7     jJhNOhuGpIsJX5SEUFFWYQ\n",
       "8     jJhNOhuGpIsJX5SEUFFWYQ\n",
       "9     PoRYjYUSjmeWM1WLsx_45w\n",
       "10    K2_Hmmo5crTYWiT_1sWnfQ\n",
       "11    6imLt53br7SJ3av07jjH7w\n",
       "12    4r9-iKOagzn5oUvPE9Bz4Q\n",
       "13    PoRYjYUSjmeWM1WLsx_45w\n",
       "14    7SO_rX1F6rQEl-5s3wZxgQ\n",
       "15    vSEFzop2GDXsIWTLxIGMiw\n",
       "16    PoRYjYUSjmeWM1WLsx_45w\n",
       "17    7SO_rX1F6rQEl-5s3wZxgQ\n",
       "18    7SO_rX1F6rQEl-5s3wZxgQ\n",
       "19    jJhNOhuGpIsJX5SEUFFWYQ\n",
       "20    L2J3JfjXZLnX1rLhWKthqA\n",
       "21    L2J3JfjXZLnX1rLhWKthqA\n",
       "22    zmFc8M-hS4uuyY0hklIpoQ\n",
       "23    PoRYjYUSjmeWM1WLsx_45w\n",
       "24    FeI75xIG8PF_XZ6P80gLBQ\n",
       "25    7SO_rX1F6rQEl-5s3wZxgQ\n",
       "26    K2_Hmmo5crTYWiT_1sWnfQ\n",
       "27    7SO_rX1F6rQEl-5s3wZxgQ\n",
       "28    6imLt53br7SJ3av07jjH7w\n",
       "29    Dsvx2LEC8jk9nuGsg1Kqhg\n",
       "               ...          \n",
       "46    jJhNOhuGpIsJX5SEUFFWYQ\n",
       "47    7SO_rX1F6rQEl-5s3wZxgQ\n",
       "48    7SO_rX1F6rQEl-5s3wZxgQ\n",
       "49    6imLt53br7SJ3av07jjH7w\n",
       "50    7SO_rX1F6rQEl-5s3wZxgQ\n",
       "51    L2J3JfjXZLnX1rLhWKthqA\n",
       "52    6imLt53br7SJ3av07jjH7w\n",
       "53    6imLt53br7SJ3av07jjH7w\n",
       "54    zmFc8M-hS4uuyY0hklIpoQ\n",
       "55    L2J3JfjXZLnX1rLhWKthqA\n",
       "56    zmFc8M-hS4uuyY0hklIpoQ\n",
       "57    L2J3JfjXZLnX1rLhWKthqA\n",
       "58    K2_Hmmo5crTYWiT_1sWnfQ\n",
       "59    PoRYjYUSjmeWM1WLsx_45w\n",
       "60    7SO_rX1F6rQEl-5s3wZxgQ\n",
       "61    zmFc8M-hS4uuyY0hklIpoQ\n",
       "62    PdRzCJWP7nPdYoHPdd5SOQ\n",
       "63    FeI75xIG8PF_XZ6P80gLBQ\n",
       "64    L2J3JfjXZLnX1rLhWKthqA\n",
       "65    jJhNOhuGpIsJX5SEUFFWYQ\n",
       "66    7SO_rX1F6rQEl-5s3wZxgQ\n",
       "67    jJhNOhuGpIsJX5SEUFFWYQ\n",
       "68    7SO_rX1F6rQEl-5s3wZxgQ\n",
       "69    zmFc8M-hS4uuyY0hklIpoQ\n",
       "70    zmFc8M-hS4uuyY0hklIpoQ\n",
       "71    Dsvx2LEC8jk9nuGsg1Kqhg\n",
       "72    Dsvx2LEC8jk9nuGsg1Kqhg\n",
       "73    zmFc8M-hS4uuyY0hklIpoQ\n",
       "74    jJhNOhuGpIsJX5SEUFFWYQ\n",
       "75    vSEFzop2GDXsIWTLxIGMiw\n",
       "Name: business_id, Length: 76, dtype: object"
      ]
     },
     "execution_count": 18,
     "metadata": {},
     "output_type": "execute_result"
    }
   ],
   "source": [
    "adj_list = {}\n",
    "df['business_id']"
   ]
  },
  {
   "cell_type": "markdown",
   "metadata": {},
   "source": [
    "## Creating a Graph\n",
    "\n",
    "Now, create an initial graph!"
   ]
  },
  {
   "cell_type": "code",
   "execution_count": null,
   "metadata": {},
   "outputs": [],
   "source": [
    "#Your code here"
   ]
  },
  {
   "cell_type": "markdown",
   "metadata": {},
   "source": [
    "## Adding Nodes"
   ]
  },
  {
   "cell_type": "markdown",
   "metadata": {},
   "source": [
    "Create a node for each user and each business in the dataset. Networks with multiple node types like this are called **bimodal networks**.\n",
    "\n",
    "Optionally, go further by creating a list of colors for when you visualize the graph. If you do this, append the color \"green\" to your color list every time you add a user node and append the color \"blue\" to your color list every time you add a business node."
   ]
  },
  {
   "cell_type": "code",
   "execution_count": null,
   "metadata": {},
   "outputs": [],
   "source": [
    "#Your code here"
   ]
  },
  {
   "cell_type": "markdown",
   "metadata": {},
   "source": [
    "## Adding Edges\n",
    "\n",
    "Next, iterate through the dataset and create an edge between users and the businesses they have reviewed."
   ]
  },
  {
   "cell_type": "code",
   "execution_count": null,
   "metadata": {},
   "outputs": [],
   "source": [
    "#Your code here"
   ]
  },
  {
   "cell_type": "markdown",
   "metadata": {},
   "source": [
    "## Visualizing the Graph\n",
    "\n",
    "Finally, create a visualization of your network. If you chose to color your nodes, pass the list of colors through the optional `node_color` parameter."
   ]
  },
  {
   "cell_type": "code",
   "execution_count": null,
   "metadata": {},
   "outputs": [],
   "source": [
    "#Your code here"
   ]
  },
  {
   "cell_type": "markdown",
   "metadata": {},
   "source": [
    "## Summary\n",
    "\n",
    "Nice work! In this lab you created an initial network to visualize a bimodal network of businesses and yelp reviewers!"
   ]
  }
 ],
 "metadata": {
  "kernelspec": {
   "display_name": "Python 3",
   "language": "python",
   "name": "python3"
  },
  "language_info": {
   "codemirror_mode": {
    "name": "ipython",
    "version": 3
   },
   "file_extension": ".py",
   "mimetype": "text/x-python",
   "name": "python",
   "nbconvert_exporter": "python",
   "pygments_lexer": "ipython3",
   "version": "3.6.6"
  }
 },
 "nbformat": 4,
 "nbformat_minor": 2
}
